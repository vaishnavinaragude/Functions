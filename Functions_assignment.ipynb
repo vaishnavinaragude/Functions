{
  "nbformat": 4,
  "nbformat_minor": 0,
  "metadata": {
    "colab": {
      "provenance": []
    },
    "kernelspec": {
      "name": "python3",
      "display_name": "Python 3"
    },
    "language_info": {
      "name": "python"
    }
  },
  "cells": [
    {
      "cell_type": "markdown",
      "source": [
        "Note: For each theory Question, give at least one example.\n",
        "\n",
        "1. What is the difference between a function and a method in Python?\n",
        "--> In Python, methods and functions have similar purposes but differ in important ways. Functions are independent blocks of code that can be called from anywhere, while methods are tied to objects or classes and need an object or class instance to be invoked.\n",
        "Function — a set of instructions that perform a task. Method — a set of instructions that are associated with an object.\n",
        "\n",
        "\n",
        "2. Explain the concept of function arguments and parameters in Python.\n",
        "--> A parameter is the variable listed inside the parentheses in the function definition. An argument is the value that are sent to the function when it is called.\n",
        "\n",
        "\n",
        "3. What are the different ways to define and call a function in Python?\n",
        "--> To define a function in Python, you can use the def keyword, followed by the function name and any parameters in parentheses. To call a function, you can use the function name followed by parentheses.\n",
        "-Defining a function: def my_function(): print(\"Hello from a function\")\n",
        "-Calling a function: my_function()\n",
        "-Passing arguments to a function: def my_function(fname): print(fname + \" Refsnes\")\n",
        "\n",
        "\n",
        "4. What is the purpose of the `return` statement in a Python function?\n",
        "--> The purpose of the return statement in a Python function is to:\n",
        "Exit the Function: It terminates the function and transfers control back to the caller.\n",
        "Return a Value: It allows the function to send a value back to the caller, which can be used for further operations or processing.\n",
        "Without a return statement, the function will return None by default.\n",
        "\n",
        "\n",
        "5. What are iterators in Python and how do they differ from iterables?\n",
        "--> An Iterable is basically an object that any user can iterate over. An Iterator is also an object that helps a user in iterating over another object (that is iterable). We can generate an iterator when we pass the object to the iter() method. We use the __next__() method for iterating.\n",
        "\n",
        "\n",
        "6. Explain the concept of generators in Python and how they are defined.\n",
        "--> A generator is a special type of iterator that allows you to iterate over a sequence of values, but unlike lists, it generates values on the fly and doesn't store the entire sequence in memory. This makes generators memory-efficient, especially for large datasets.\n",
        "How Generators are Defined:\n",
        "Using a Function with yield:\n",
        "A generator is typically defined using a function that contains the yield keyword.\n",
        "When a generator function is called, it doesn’t execute the function right away; instead, it returns a generator object.\n",
        "The yield statement pauses the function and sends a value back to the caller. The function resumes from where it left off each time next() is called.\n",
        "\n",
        "\n",
        "7. What are the advantages of using generators over regular functions?\n",
        "--> Generators have several advantages over regular functions, including:\n",
        "Memory Efficiency: Generators produce values one at a time, without storing them, saving memory.\n",
        "Lazy Evaluation: Generators compute values only when needed, avoiding unnecessary work.\n",
        "Performance: Generators can be faster for large datasets since they don't compute all values at once.\n",
        "State Retention: Generators remember their state between iterations, while regular functions lose state after execution.\n",
        "Infinite Sequences: Generators can handle infinite sequences, while regular functions cannot due to memory constraints.\n",
        "\n",
        "\n",
        "8. What is a lambda function in Python and when is it typically used?\n",
        "--> In Python, a lambda function is a concise, anonymous function that is typically used for short, one-time tasks:\n",
        "Definition\n",
        "A lambda function is a single-line function that is defined without a name using the lambda keyword.\n",
        "Syntax\n",
        "The syntax for a lambda function is lambda parameters: expression.\n",
        "Use\n",
        "Lambda functions are often used in functional programming contexts as arguments for higher-order functions like map(), filter(), and sorted().\n",
        "Examples\n",
        "Lambda functions are well-suited for simple mathematical calculations or basic data transformations. For example, you can use a lambda function to filter a list of values to only include those that have a remainder of 0 when divided by 2.\n",
        "\n",
        "\n",
        "9. Explain the purpose and usage of the `map()` function in Python.\n",
        "--> The Python map() function applies a function to every item in an iterable, such as a list or tuple, and returns a new iterator that contains the results:\n",
        "Purpose\n",
        "The map() function is used to apply a single transformation function to all the elements of an iterable.\n",
        "Usage\n",
        "The map() function takes two arguments: the function to execute for each item and the iterable. The iterable can be a sequence, collection, or iterator object.\n",
        "Return value\n",
        "The map() function returns a map object, which is an iterator that can be used in other parts of the program. The map object can also be converted to a sequence object, such as a list or tuple, using their factory functions.\n",
        "\n",
        "\n",
        "10. What is the difference between `map()`,`reduce()`, and `filter()` functions in Python?\n",
        "-->map(): Transforms data by applying a function to each item.\n",
        "reduce(): Combines data into a single value using a cumulative function.\n",
        "filter(): Filters data based on a condition.\n",
        "\n",
        "\n",
        " (Attach paper image for this answer) in doc or colab notebook.\n",
        "11. Using pen & Paper write the internal mechanism for sum operation using  reduce function on this given\n",
        "list:[47,11,42,13];"
      ],
      "metadata": {
        "id": "aw38onYfOwtl"
      }
    },
    {
      "cell_type": "code",
      "source": [
        "#1 Write a Python function that takes a list of numbers as input and returns the sum of all even numbers in the list.\n",
        "\n",
        "def sum_of_even_numbers(numbers):\n",
        "    even_sum = sum(num for num in numbers if num % 2 == 0)\n",
        "    return even_sum\n",
        "\n",
        "user_input = input(\"Enter a list of numbers separated by spaces: \")\n",
        "numbers = list(map(int, user_input.split()))\n",
        "result = sum_of_even_numbers(numbers)\n",
        "print(result)"
      ],
      "metadata": {
        "id": "urMPtxG5O6ou",
        "colab": {
          "base_uri": "https://localhost:8080/"
        },
        "outputId": "476fc823-44cd-46f7-a967-17618ac2bd77"
      },
      "execution_count": 5,
      "outputs": [
        {
          "output_type": "stream",
          "name": "stdout",
          "text": [
            "Enter a list of numbers separated by spaces: 1 3 4 5 6 2\n",
            "12\n"
          ]
        }
      ]
    },
    {
      "cell_type": "code",
      "source": [
        "#2 Create a Python function that accepts a string and returns the reverse of that string.\n",
        "\n",
        "def reverse_string(input_string):\n",
        "    return input_string[::-1]\n",
        "\n",
        "user_input = input(\"Enter a string: \")\n",
        "reversed_str = reverse_string(user_input)\n",
        "print(f\"The reversed string is: {reversed_str}\")\n"
      ],
      "metadata": {
        "id": "dkQLFquJO__9",
        "colab": {
          "base_uri": "https://localhost:8080/"
        },
        "outputId": "ecc657b3-f206-406c-9808-e993ec44fd73"
      },
      "execution_count": 6,
      "outputs": [
        {
          "output_type": "stream",
          "name": "stdout",
          "text": [
            "Enter a string: vaishu\n",
            "The reversed string is: uhsiav\n"
          ]
        }
      ]
    },
    {
      "cell_type": "code",
      "source": [
        "#3 Implement a Python function that takes a list of integers and returns a new list containing the squares of each number.\n",
        "\n",
        "def square_numbers(numbers):\n",
        "    return [num ** 2 for num in numbers]\n",
        "user_input = input(\"Enter a list of integers separated by spaces: \")\n",
        "numbers = list(map(int, user_input.split()))\n",
        "squared_numbers = square_numbers(numbers)\n",
        "print(f\"The squares of the numbers are: {squared_numbers}\")\n"
      ],
      "metadata": {
        "id": "YNnsdCB9PHX5",
        "colab": {
          "base_uri": "https://localhost:8080/"
        },
        "outputId": "0ca3eaf2-da67-4b96-f6fc-59d1057e966a"
      },
      "execution_count": 7,
      "outputs": [
        {
          "output_type": "stream",
          "name": "stdout",
          "text": [
            "Enter a list of integers separated by spaces: 2 3 4 5 1\n",
            "The squares of the numbers are: [4, 9, 16, 25, 1]\n"
          ]
        }
      ]
    },
    {
      "cell_type": "code",
      "source": [
        "#4 Write a Python function that checks if a given number is prime or not from 1 to 200\n",
        "\n",
        "def is_prime(n):\n",
        "    if n <= 1:\n",
        "        return False\n",
        "    for i in range(2, int(n**0.5) + 1):\n",
        "        if n % i == 0:\n",
        "            return False\n",
        "    return True\n",
        "user_input = int(input(\"Enter a number between 1 and 200: \"))\n",
        "\n",
        "if 1 <= user_input <= 200:\n",
        "    if is_prime(user_input):\n",
        "        print(f\"{user_input} is a prime number.\")\n",
        "    else:\n",
        "        print(f\"{user_input} is not a prime number.\")\n",
        "else:\n",
        "    print(\"Please enter a number between 1 and 200.\")\n"
      ],
      "metadata": {
        "id": "2qfvjQGfPHS7",
        "colab": {
          "base_uri": "https://localhost:8080/"
        },
        "outputId": "8b5ad66c-0838-4e7b-fd9b-e466ce6756a3"
      },
      "execution_count": 8,
      "outputs": [
        {
          "output_type": "stream",
          "name": "stdout",
          "text": [
            "Enter a number between 1 and 200: 17\n",
            "17 is a prime number.\n"
          ]
        }
      ]
    },
    {
      "cell_type": "code",
      "source": [
        "#5 Create an iterator class in Python that generates the Fibonacci sequence up to a specified number of terms.\n",
        "\n",
        "class FibonacciIterator:\n",
        "    def __init__(self, num_terms):\n",
        "        self.num_terms = num_terms\n",
        "        self.current = 0\n",
        "        self.next_term = 1\n",
        "        self.count = 0\n",
        "\n",
        "    def __iter__(self):\n",
        "        return self\n",
        "\n",
        "    def __next__(self):\n",
        "        if self.count < self.num_terms:\n",
        "            fib_number = self.current\n",
        "            self.current, self.next_term = self.next_term, self.current + self.next_term\n",
        "            self.count += 1\n",
        "            return fib_number\n",
        "        else:\n",
        "            raise StopIteration\n",
        "\n",
        "num_terms = int(input(\"Enter the number of terms for the Fibonacci sequence: \"))\n",
        "fib_iter = FibonacciIterator(num_terms)\n",
        "\n",
        "print(\"Fibonacci sequence:\")\n",
        "for num in fib_iter:\n",
        "    print(num)\n"
      ],
      "metadata": {
        "id": "xkZ8qCQ4PHPo",
        "colab": {
          "base_uri": "https://localhost:8080/"
        },
        "outputId": "d05e26cf-8c0e-49ad-e469-ab80ce7bdef0"
      },
      "execution_count": 9,
      "outputs": [
        {
          "output_type": "stream",
          "name": "stdout",
          "text": [
            "Enter the number of terms for the Fibonacci sequence: 4\n",
            "Fibonacci sequence:\n",
            "0\n",
            "1\n",
            "1\n",
            "2\n"
          ]
        }
      ]
    },
    {
      "cell_type": "code",
      "source": [
        "#6 Write a generator function in Python that yields the powers of 2 up to a given exponent.\n",
        "\n",
        "def powers_of_two(exponent):\n",
        "    for i in range(exponent + 1):\n",
        "        yield 2 ** i\n",
        "exponent = int(input(\"Enter the exponent: \"))\n",
        "print(\"Powers of 2:\")\n",
        "for power in powers_of_two(exponent):\n",
        "    print(power)\n"
      ],
      "metadata": {
        "id": "V4IiHfzPPHLU",
        "colab": {
          "base_uri": "https://localhost:8080/"
        },
        "outputId": "4b929405-a8c5-4a66-a047-5b9532d4b553"
      },
      "execution_count": 10,
      "outputs": [
        {
          "output_type": "stream",
          "name": "stdout",
          "text": [
            "Enter the exponent: 4\n",
            "Powers of 2:\n",
            "1\n",
            "2\n",
            "4\n",
            "8\n",
            "16\n"
          ]
        }
      ]
    },
    {
      "cell_type": "code",
      "source": [
        "#7 Implement a generator function that reads a file line by line and yields each line as a string.\n",
        "def read_file_line_by_line(file_path):\n",
        "    try:\n",
        "        with open(file_path, 'r') as file:\n",
        "            for line in file:\n",
        "                yield line.strip()  # Yield each line, removing any leading/trailing whitespace\n",
        "    except FileNotFoundError:\n",
        "        print(f\"The file at {file_path} was not found.\")\n",
        "    except Exception as e:\n",
        "        print(f\"An error occurred: {e}\")\n",
        "\n",
        "file_path = input(\"Enter the path of the file to read: \")\n",
        "for line in read_file_line_by_line(file_path):\n",
        "    print(line)\n"
      ],
      "metadata": {
        "id": "05aRwxTdPHIE",
        "colab": {
          "base_uri": "https://localhost:8080/"
        },
        "outputId": "1ab2e3f3-d560-4b5a-faba-97dd82cb2d6e"
      },
      "execution_count": 12,
      "outputs": [
        {
          "output_type": "stream",
          "name": "stdout",
          "text": [
            "Enter the path of the file to read: ds\n",
            "The file at ds was not found.\n"
          ]
        }
      ]
    },
    {
      "cell_type": "code",
      "source": [
        "#8 Use a lambda function in Python to sort a list of tuples based on the second element of each tuple\n",
        "\n",
        "tuples_list = [(1, 3), (2, 2), (4, 1), (5, 5)]\n",
        "\n",
        "sorted_list = sorted(tuples_list, key=lambda x: x[1])\n",
        "print(sorted_list)\n"
      ],
      "metadata": {
        "id": "0ccuYv9GPHEH",
        "colab": {
          "base_uri": "https://localhost:8080/"
        },
        "outputId": "04cf07cb-95fe-4ee1-bb43-a96ba28965a5"
      },
      "execution_count": 13,
      "outputs": [
        {
          "output_type": "stream",
          "name": "stdout",
          "text": [
            "[(4, 1), (2, 2), (1, 3), (5, 5)]\n"
          ]
        }
      ]
    },
    {
      "cell_type": "code",
      "source": [
        "#9 Write a Python program that uses `map()` to convert a list of temperatures from Celsius to Fahrenheit\n",
        "\n",
        "def celsius_to_fahrenheit(celsius):\n",
        "    return (celsius * 9/5) + 32\n",
        "\n",
        "celsius_temps = [0, 20, 25, 30, 35]\n",
        "\n",
        "fahrenheit_temps = list(map(celsius_to_fahrenheit, celsius_temps))\n",
        "print(\"Temperatures in Fahrenheit:\", fahrenheit_temps)\n"
      ],
      "metadata": {
        "id": "YmmwbjZNPG9d",
        "colab": {
          "base_uri": "https://localhost:8080/"
        },
        "outputId": "fa9cae06-4a57-44c2-95b3-80e5470d722e"
      },
      "execution_count": 14,
      "outputs": [
        {
          "output_type": "stream",
          "name": "stdout",
          "text": [
            "Temperatures in Fahrenheit: [32.0, 68.0, 77.0, 86.0, 95.0]\n"
          ]
        }
      ]
    },
    {
      "cell_type": "code",
      "source": [
        "#10 Create a Python program that uses `filter()` to remove all the vowels from a given string\n",
        "\n",
        "def is_not_vowel(char):\n",
        "    vowels = \"aeiouAEIOU\"\n",
        "    return char not in vowels\n",
        "input_string = input(\"Enter a string: \")\n",
        "filtered_string = ''.join(filter(is_not_vowel, input_string))\n",
        "print(\"String after removing vowels:\", filtered_string)\n"
      ],
      "metadata": {
        "id": "4H17xJHtPGwk",
        "colab": {
          "base_uri": "https://localhost:8080/"
        },
        "outputId": "7be71369-016f-4704-ab72-46b02b2f9cdb"
      },
      "execution_count": 15,
      "outputs": [
        {
          "output_type": "stream",
          "name": "stdout",
          "text": [
            "Enter a string: vedant\n",
            "String after removing vowels: vdnt\n"
          ]
        }
      ]
    },
    {
      "cell_type": "code",
      "source": [
        "#11 Imagine an accounting routine used in a book shop. It works on a list with sublists, which look like this:\n",
        "\"\"\"Write a Python program, which returns a list with 2-tuples. Each tuple consists of the order number and the\n",
        "product of the price per item and the quantity. The product should be increased by 10,- € if the value of the\n",
        "order is smaller than 100,00 €.\n",
        "\n",
        "Write a Python program using lambda and map. \"\"\"\n",
        "\n",
        "\n",
        "orders = [\n",
        "    [1, 30, 2],  # Order 1: 30 EUR, quantity 2\n",
        "    [2, 50, 1],  # Order 2: 50 EUR, quantity 1\n",
        "    [3, 40, 3],  # Order 3: 40 EUR, quantity 3\n",
        "    [4, 70, 1],  # Order 4: 70 EUR, quantity 1\n",
        "]\n",
        "\n",
        "order_values = list(map(lambda x: (x[0], x[1] * x[2] + 10) if x[1] * x[2] < 100 else (x[0], x[1] * x[2]), orders))\n",
        "\n",
        "print(order_values)\n"
      ],
      "metadata": {
        "colab": {
          "base_uri": "https://localhost:8080/"
        },
        "id": "DizjfPE4Pv4b",
        "outputId": "efb28833-99fa-483b-baff-f669c5733222"
      },
      "execution_count": 16,
      "outputs": [
        {
          "output_type": "stream",
          "name": "stdout",
          "text": [
            "[(1, 70), (2, 60), (3, 120), (4, 80)]\n"
          ]
        }
      ]
    }
  ]
}